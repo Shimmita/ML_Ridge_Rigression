{
 "cells": [
  {
   "cell_type": "markdown",
   "id": "9f60b43a",
   "metadata": {},
   "source": [
    "## Import Necessary Libraries For LinearRegression Model"
   ]
  },
  {
   "cell_type": "code",
   "execution_count": 1,
   "id": "0ec44c32",
   "metadata": {},
   "outputs": [],
   "source": [
    "import pandas as pd\n",
    "import numpy as np\n",
    "import matplotlib.pyplot as plt\n",
    "%matplotlib inline\n",
    "from sklearn.linear_model import LinearRegression\n",
    "from sklearn.model_selection import train_test_split\n",
    "from sklearn.neighbors import KNeighborsRegressor\n",
    "from sklearn.metrics import accuracy_score\n",
    "from sklearn.preprocessing import StandardScaler\n",
    "from sklearn.metrics import mean_squared_error "
   ]
  },
  {
   "cell_type": "code",
   "execution_count": 2,
   "id": "554213a9",
   "metadata": {},
   "outputs": [],
   "source": [
    "# obtain the values for X and Y from the dataset of gas prices\n",
    "gas_df=pd.read_csv('gas_prices.csv')\n",
    "#Y variable is the year by and gas prices the X variables except australia that has nan and find how to remove it\n",
    "x_variable=np.array(gas_df.iloc[:,1:])\n",
    "y_variable=np.array(gas_df.Year)\n"
   ]
  },
  {
   "cell_type": "markdown",
   "id": "931dd7d9",
   "metadata": {},
   "source": [
    "## train 70% and Test 30%"
   ]
  },
  {
   "cell_type": "code",
   "execution_count": 3,
   "id": "a2eee00c",
   "metadata": {},
   "outputs": [],
   "source": [
    "#splitting the data into the respective test and tradin for both x and y  variables\n",
    "x_train,x_test,y_train,y_test=train_test_split(x_variable,y_variable,test_size=0.30)\n",
    "\n",
    "# # scaling the data values for x_train and test only since are the features diterming the prediction of the target\n",
    "# scaler=StandardScaler()\n",
    "# x_train_scaled=scaler.fit_transform(x_train)\n",
    "# x_test_scaled=scaler.fit_transform(x_test)\n",
    "\n",
    "\n"
   ]
  },
  {
   "cell_type": "markdown",
   "id": "04928ece",
   "metadata": {},
   "source": [
    "## Init and train the the model"
   ]
  },
  {
   "cell_type": "code",
   "execution_count": 4,
   "id": "5ee96bc4",
   "metadata": {},
   "outputs": [
    {
     "data": {
      "text/html": [
       "<style>#sk-container-id-1 {color: black;}#sk-container-id-1 pre{padding: 0;}#sk-container-id-1 div.sk-toggleable {background-color: white;}#sk-container-id-1 label.sk-toggleable__label {cursor: pointer;display: block;width: 100%;margin-bottom: 0;padding: 0.3em;box-sizing: border-box;text-align: center;}#sk-container-id-1 label.sk-toggleable__label-arrow:before {content: \"▸\";float: left;margin-right: 0.25em;color: #696969;}#sk-container-id-1 label.sk-toggleable__label-arrow:hover:before {color: black;}#sk-container-id-1 div.sk-estimator:hover label.sk-toggleable__label-arrow:before {color: black;}#sk-container-id-1 div.sk-toggleable__content {max-height: 0;max-width: 0;overflow: hidden;text-align: left;background-color: #f0f8ff;}#sk-container-id-1 div.sk-toggleable__content pre {margin: 0.2em;color: black;border-radius: 0.25em;background-color: #f0f8ff;}#sk-container-id-1 input.sk-toggleable__control:checked~div.sk-toggleable__content {max-height: 200px;max-width: 100%;overflow: auto;}#sk-container-id-1 input.sk-toggleable__control:checked~label.sk-toggleable__label-arrow:before {content: \"▾\";}#sk-container-id-1 div.sk-estimator input.sk-toggleable__control:checked~label.sk-toggleable__label {background-color: #d4ebff;}#sk-container-id-1 div.sk-label input.sk-toggleable__control:checked~label.sk-toggleable__label {background-color: #d4ebff;}#sk-container-id-1 input.sk-hidden--visually {border: 0;clip: rect(1px 1px 1px 1px);clip: rect(1px, 1px, 1px, 1px);height: 1px;margin: -1px;overflow: hidden;padding: 0;position: absolute;width: 1px;}#sk-container-id-1 div.sk-estimator {font-family: monospace;background-color: #f0f8ff;border: 1px dotted black;border-radius: 0.25em;box-sizing: border-box;margin-bottom: 0.5em;}#sk-container-id-1 div.sk-estimator:hover {background-color: #d4ebff;}#sk-container-id-1 div.sk-parallel-item::after {content: \"\";width: 100%;border-bottom: 1px solid gray;flex-grow: 1;}#sk-container-id-1 div.sk-label:hover label.sk-toggleable__label {background-color: #d4ebff;}#sk-container-id-1 div.sk-serial::before {content: \"\";position: absolute;border-left: 1px solid gray;box-sizing: border-box;top: 0;bottom: 0;left: 50%;z-index: 0;}#sk-container-id-1 div.sk-serial {display: flex;flex-direction: column;align-items: center;background-color: white;padding-right: 0.2em;padding-left: 0.2em;position: relative;}#sk-container-id-1 div.sk-item {position: relative;z-index: 1;}#sk-container-id-1 div.sk-parallel {display: flex;align-items: stretch;justify-content: center;background-color: white;position: relative;}#sk-container-id-1 div.sk-item::before, #sk-container-id-1 div.sk-parallel-item::before {content: \"\";position: absolute;border-left: 1px solid gray;box-sizing: border-box;top: 0;bottom: 0;left: 50%;z-index: -1;}#sk-container-id-1 div.sk-parallel-item {display: flex;flex-direction: column;z-index: 1;position: relative;background-color: white;}#sk-container-id-1 div.sk-parallel-item:first-child::after {align-self: flex-end;width: 50%;}#sk-container-id-1 div.sk-parallel-item:last-child::after {align-self: flex-start;width: 50%;}#sk-container-id-1 div.sk-parallel-item:only-child::after {width: 0;}#sk-container-id-1 div.sk-dashed-wrapped {border: 1px dashed gray;margin: 0 0.4em 0.5em 0.4em;box-sizing: border-box;padding-bottom: 0.4em;background-color: white;}#sk-container-id-1 div.sk-label label {font-family: monospace;font-weight: bold;display: inline-block;line-height: 1.2em;}#sk-container-id-1 div.sk-label-container {text-align: center;}#sk-container-id-1 div.sk-container {/* jupyter's `normalize.less` sets `[hidden] { display: none; }` but bootstrap.min.css set `[hidden] { display: none !important; }` so we also need the `!important` here to be able to override the default hidden behavior on the sphinx rendered scikit-learn.org. See: https://github.com/scikit-learn/scikit-learn/issues/21755 */display: inline-block !important;position: relative;}#sk-container-id-1 div.sk-text-repr-fallback {display: none;}</style><div id=\"sk-container-id-1\" class=\"sk-top-container\"><div class=\"sk-text-repr-fallback\"><pre>LinearRegression()</pre><b>In a Jupyter environment, please rerun this cell to show the HTML representation or trust the notebook. <br />On GitHub, the HTML representation is unable to render, please try loading this page with nbviewer.org.</b></div><div class=\"sk-container\" hidden><div class=\"sk-item\"><div class=\"sk-estimator sk-toggleable\"><input class=\"sk-toggleable__control sk-hidden--visually\" id=\"sk-estimator-id-1\" type=\"checkbox\" checked><label for=\"sk-estimator-id-1\" class=\"sk-toggleable__label sk-toggleable__label-arrow\">LinearRegression</label><div class=\"sk-toggleable__content\"><pre>LinearRegression()</pre></div></div></div></div></div>"
      ],
      "text/plain": [
       "LinearRegression()"
      ]
     },
     "execution_count": 4,
     "metadata": {},
     "output_type": "execute_result"
    }
   ],
   "source": [
    "#model init using the linearRegression\n",
    "model=LinearRegression()\n",
    "#train the the model using the fit method or function by passing the variables x_train and y_train\n",
    "model.fit(x_train,y_train)\n"
   ]
  },
  {
   "cell_type": "markdown",
   "id": "f5417127",
   "metadata": {},
   "source": [
    "## predict using the model"
   ]
  },
  {
   "cell_type": "code",
   "execution_count": 5,
   "id": "41bbe35f",
   "metadata": {},
   "outputs": [
    {
     "data": {
      "text/plain": [
       "array([2002.90269715, 2002.56825909, 1993.62633906, 1994.19156454,\n",
       "       2009.33418499, 2009.93870553])"
      ]
     },
     "execution_count": 5,
     "metadata": {},
     "output_type": "execute_result"
    }
   ],
   "source": [
    "#make predictions on the model using the x_test data set\n",
    "y_prediction=model.predict(x_test)\n",
    "y_prediction"
   ]
  },
  {
   "cell_type": "markdown",
   "id": "4590f106",
   "metadata": {},
   "source": [
    "## Model Accurcy And Evaluation"
   ]
  },
  {
   "cell_type": "code",
   "execution_count": 6,
   "id": "18820ede",
   "metadata": {},
   "outputs": [],
   "source": [
    "#accuracy score checks the relation between the y_test and y_prediction\n",
    "# accuracy=accuracy_score(y_test,y_prediction)\n",
    "# accuracy"
   ]
  },
  {
   "cell_type": "code",
   "execution_count": 7,
   "id": "c1be0676",
   "metadata": {},
   "outputs": [
    {
     "data": {
      "text/plain": [
       "array([[2.72, 2.37, 4.99, 5.24, 5.29, 3.93, 2.03, 4.51, 5.56, 1.88],\n",
       "       [2.19, 1.99, 4.35, 4.59, 4.53, 3.47, 2.04, 4.11, 4.7 , 1.59],\n",
       "       [1.73, 1.57, 3.41, 3.07, 3.68, 4.16, 1.56, 2.88, 2.84, 1.11],\n",
       "       [1.84, 1.45, 3.59, 3.52, 3.7 , 4.36, 1.48, 2.87, 2.99, 1.11],\n",
       "       [4.45, 4.08, 7.51, 7.75, 7.63, 5.74, 2.45, 5.83, 7.42, 3.27],\n",
       "       [3.85, 3.59, 6.6 , 6.88, 6.73, 4.49, 2.4 , 6.21, 7.13, 2.8 ]])"
      ]
     },
     "execution_count": 7,
     "metadata": {},
     "output_type": "execute_result"
    }
   ],
   "source": [
    "x_test"
   ]
  },
  {
   "cell_type": "code",
   "execution_count": 8,
   "id": "53778b58",
   "metadata": {},
   "outputs": [
    {
     "data": {
      "text/plain": [
       "array([2004, 2003, 1993, 1994, 2008, 2007])"
      ]
     },
     "execution_count": 8,
     "metadata": {},
     "output_type": "execute_result"
    }
   ],
   "source": [
    "y_test"
   ]
  },
  {
   "cell_type": "code",
   "execution_count": 9,
   "id": "d8a27fe2",
   "metadata": {},
   "outputs": [
    {
     "data": {
      "text/html": [
       "<div>\n",
       "<style scoped>\n",
       "    .dataframe tbody tr th:only-of-type {\n",
       "        vertical-align: middle;\n",
       "    }\n",
       "\n",
       "    .dataframe tbody tr th {\n",
       "        vertical-align: top;\n",
       "    }\n",
       "\n",
       "    .dataframe thead th {\n",
       "        text-align: right;\n",
       "    }\n",
       "</style>\n",
       "<table border=\"1\" class=\"dataframe\">\n",
       "  <thead>\n",
       "    <tr style=\"text-align: right;\">\n",
       "      <th></th>\n",
       "      <th>Year</th>\n",
       "      <th>Australia</th>\n",
       "      <th>Canada</th>\n",
       "      <th>France</th>\n",
       "      <th>Germany</th>\n",
       "      <th>Italy</th>\n",
       "      <th>Japan</th>\n",
       "      <th>Mexico</th>\n",
       "      <th>South Korea</th>\n",
       "      <th>UK</th>\n",
       "      <th>USA</th>\n",
       "    </tr>\n",
       "  </thead>\n",
       "  <tbody>\n",
       "    <tr>\n",
       "      <th>0</th>\n",
       "      <td>1990</td>\n",
       "      <td>1.51</td>\n",
       "      <td>1.87</td>\n",
       "      <td>3.63</td>\n",
       "      <td>2.65</td>\n",
       "      <td>4.59</td>\n",
       "      <td>3.16</td>\n",
       "      <td>1.00</td>\n",
       "      <td>2.05</td>\n",
       "      <td>2.82</td>\n",
       "      <td>1.16</td>\n",
       "    </tr>\n",
       "    <tr>\n",
       "      <th>1</th>\n",
       "      <td>1991</td>\n",
       "      <td>1.96</td>\n",
       "      <td>1.92</td>\n",
       "      <td>3.45</td>\n",
       "      <td>2.90</td>\n",
       "      <td>4.50</td>\n",
       "      <td>3.46</td>\n",
       "      <td>1.30</td>\n",
       "      <td>2.49</td>\n",
       "      <td>3.01</td>\n",
       "      <td>1.14</td>\n",
       "    </tr>\n",
       "    <tr>\n",
       "      <th>2</th>\n",
       "      <td>1992</td>\n",
       "      <td>1.89</td>\n",
       "      <td>1.73</td>\n",
       "      <td>3.56</td>\n",
       "      <td>3.27</td>\n",
       "      <td>4.53</td>\n",
       "      <td>3.58</td>\n",
       "      <td>1.50</td>\n",
       "      <td>2.65</td>\n",
       "      <td>3.06</td>\n",
       "      <td>1.13</td>\n",
       "    </tr>\n",
       "    <tr>\n",
       "      <th>3</th>\n",
       "      <td>1993</td>\n",
       "      <td>1.73</td>\n",
       "      <td>1.57</td>\n",
       "      <td>3.41</td>\n",
       "      <td>3.07</td>\n",
       "      <td>3.68</td>\n",
       "      <td>4.16</td>\n",
       "      <td>1.56</td>\n",
       "      <td>2.88</td>\n",
       "      <td>2.84</td>\n",
       "      <td>1.11</td>\n",
       "    </tr>\n",
       "    <tr>\n",
       "      <th>4</th>\n",
       "      <td>1994</td>\n",
       "      <td>1.84</td>\n",
       "      <td>1.45</td>\n",
       "      <td>3.59</td>\n",
       "      <td>3.52</td>\n",
       "      <td>3.70</td>\n",
       "      <td>4.36</td>\n",
       "      <td>1.48</td>\n",
       "      <td>2.87</td>\n",
       "      <td>2.99</td>\n",
       "      <td>1.11</td>\n",
       "    </tr>\n",
       "    <tr>\n",
       "      <th>5</th>\n",
       "      <td>1995</td>\n",
       "      <td>1.95</td>\n",
       "      <td>1.53</td>\n",
       "      <td>4.26</td>\n",
       "      <td>3.96</td>\n",
       "      <td>4.00</td>\n",
       "      <td>4.43</td>\n",
       "      <td>1.11</td>\n",
       "      <td>2.94</td>\n",
       "      <td>3.21</td>\n",
       "      <td>1.15</td>\n",
       "    </tr>\n",
       "    <tr>\n",
       "      <th>6</th>\n",
       "      <td>1996</td>\n",
       "      <td>2.12</td>\n",
       "      <td>1.61</td>\n",
       "      <td>4.41</td>\n",
       "      <td>3.94</td>\n",
       "      <td>4.39</td>\n",
       "      <td>3.64</td>\n",
       "      <td>1.25</td>\n",
       "      <td>3.18</td>\n",
       "      <td>3.34</td>\n",
       "      <td>1.23</td>\n",
       "    </tr>\n",
       "    <tr>\n",
       "      <th>7</th>\n",
       "      <td>1997</td>\n",
       "      <td>2.05</td>\n",
       "      <td>1.62</td>\n",
       "      <td>4.00</td>\n",
       "      <td>3.53</td>\n",
       "      <td>4.07</td>\n",
       "      <td>3.26</td>\n",
       "      <td>1.47</td>\n",
       "      <td>3.34</td>\n",
       "      <td>3.83</td>\n",
       "      <td>1.23</td>\n",
       "    </tr>\n",
       "    <tr>\n",
       "      <th>8</th>\n",
       "      <td>1998</td>\n",
       "      <td>1.63</td>\n",
       "      <td>1.38</td>\n",
       "      <td>3.87</td>\n",
       "      <td>3.34</td>\n",
       "      <td>3.84</td>\n",
       "      <td>2.82</td>\n",
       "      <td>1.49</td>\n",
       "      <td>3.04</td>\n",
       "      <td>4.06</td>\n",
       "      <td>1.06</td>\n",
       "    </tr>\n",
       "    <tr>\n",
       "      <th>9</th>\n",
       "      <td>1999</td>\n",
       "      <td>1.72</td>\n",
       "      <td>1.52</td>\n",
       "      <td>3.85</td>\n",
       "      <td>3.42</td>\n",
       "      <td>3.87</td>\n",
       "      <td>3.27</td>\n",
       "      <td>1.79</td>\n",
       "      <td>3.80</td>\n",
       "      <td>4.29</td>\n",
       "      <td>1.17</td>\n",
       "    </tr>\n",
       "    <tr>\n",
       "      <th>10</th>\n",
       "      <td>2000</td>\n",
       "      <td>1.94</td>\n",
       "      <td>1.86</td>\n",
       "      <td>3.80</td>\n",
       "      <td>3.45</td>\n",
       "      <td>3.77</td>\n",
       "      <td>3.65</td>\n",
       "      <td>2.01</td>\n",
       "      <td>4.18</td>\n",
       "      <td>4.58</td>\n",
       "      <td>1.51</td>\n",
       "    </tr>\n",
       "    <tr>\n",
       "      <th>11</th>\n",
       "      <td>2001</td>\n",
       "      <td>1.71</td>\n",
       "      <td>1.72</td>\n",
       "      <td>3.51</td>\n",
       "      <td>3.40</td>\n",
       "      <td>3.57</td>\n",
       "      <td>3.27</td>\n",
       "      <td>2.20</td>\n",
       "      <td>3.76</td>\n",
       "      <td>4.13</td>\n",
       "      <td>1.46</td>\n",
       "    </tr>\n",
       "    <tr>\n",
       "      <th>12</th>\n",
       "      <td>2002</td>\n",
       "      <td>1.76</td>\n",
       "      <td>1.69</td>\n",
       "      <td>3.62</td>\n",
       "      <td>3.67</td>\n",
       "      <td>3.74</td>\n",
       "      <td>3.15</td>\n",
       "      <td>2.24</td>\n",
       "      <td>3.84</td>\n",
       "      <td>4.16</td>\n",
       "      <td>1.36</td>\n",
       "    </tr>\n",
       "    <tr>\n",
       "      <th>13</th>\n",
       "      <td>2003</td>\n",
       "      <td>2.19</td>\n",
       "      <td>1.99</td>\n",
       "      <td>4.35</td>\n",
       "      <td>4.59</td>\n",
       "      <td>4.53</td>\n",
       "      <td>3.47</td>\n",
       "      <td>2.04</td>\n",
       "      <td>4.11</td>\n",
       "      <td>4.70</td>\n",
       "      <td>1.59</td>\n",
       "    </tr>\n",
       "    <tr>\n",
       "      <th>14</th>\n",
       "      <td>2004</td>\n",
       "      <td>2.72</td>\n",
       "      <td>2.37</td>\n",
       "      <td>4.99</td>\n",
       "      <td>5.24</td>\n",
       "      <td>5.29</td>\n",
       "      <td>3.93</td>\n",
       "      <td>2.03</td>\n",
       "      <td>4.51</td>\n",
       "      <td>5.56</td>\n",
       "      <td>1.88</td>\n",
       "    </tr>\n",
       "    <tr>\n",
       "      <th>15</th>\n",
       "      <td>2005</td>\n",
       "      <td>3.23</td>\n",
       "      <td>2.89</td>\n",
       "      <td>5.46</td>\n",
       "      <td>5.66</td>\n",
       "      <td>5.74</td>\n",
       "      <td>4.28</td>\n",
       "      <td>2.22</td>\n",
       "      <td>5.28</td>\n",
       "      <td>5.97</td>\n",
       "      <td>2.30</td>\n",
       "    </tr>\n",
       "    <tr>\n",
       "      <th>16</th>\n",
       "      <td>2006</td>\n",
       "      <td>3.54</td>\n",
       "      <td>3.26</td>\n",
       "      <td>5.88</td>\n",
       "      <td>6.03</td>\n",
       "      <td>6.10</td>\n",
       "      <td>4.47</td>\n",
       "      <td>2.31</td>\n",
       "      <td>5.92</td>\n",
       "      <td>6.36</td>\n",
       "      <td>2.59</td>\n",
       "    </tr>\n",
       "    <tr>\n",
       "      <th>17</th>\n",
       "      <td>2007</td>\n",
       "      <td>3.85</td>\n",
       "      <td>3.59</td>\n",
       "      <td>6.60</td>\n",
       "      <td>6.88</td>\n",
       "      <td>6.73</td>\n",
       "      <td>4.49</td>\n",
       "      <td>2.40</td>\n",
       "      <td>6.21</td>\n",
       "      <td>7.13</td>\n",
       "      <td>2.80</td>\n",
       "    </tr>\n",
       "    <tr>\n",
       "      <th>18</th>\n",
       "      <td>2008</td>\n",
       "      <td>4.45</td>\n",
       "      <td>4.08</td>\n",
       "      <td>7.51</td>\n",
       "      <td>7.75</td>\n",
       "      <td>7.63</td>\n",
       "      <td>5.74</td>\n",
       "      <td>2.45</td>\n",
       "      <td>5.83</td>\n",
       "      <td>7.42</td>\n",
       "      <td>3.27</td>\n",
       "    </tr>\n",
       "  </tbody>\n",
       "</table>\n",
       "</div>"
      ],
      "text/plain": [
       "    Year  Australia  Canada  France  Germany  Italy  Japan  Mexico  \\\n",
       "0   1990       1.51    1.87    3.63     2.65   4.59   3.16    1.00   \n",
       "1   1991       1.96    1.92    3.45     2.90   4.50   3.46    1.30   \n",
       "2   1992       1.89    1.73    3.56     3.27   4.53   3.58    1.50   \n",
       "3   1993       1.73    1.57    3.41     3.07   3.68   4.16    1.56   \n",
       "4   1994       1.84    1.45    3.59     3.52   3.70   4.36    1.48   \n",
       "5   1995       1.95    1.53    4.26     3.96   4.00   4.43    1.11   \n",
       "6   1996       2.12    1.61    4.41     3.94   4.39   3.64    1.25   \n",
       "7   1997       2.05    1.62    4.00     3.53   4.07   3.26    1.47   \n",
       "8   1998       1.63    1.38    3.87     3.34   3.84   2.82    1.49   \n",
       "9   1999       1.72    1.52    3.85     3.42   3.87   3.27    1.79   \n",
       "10  2000       1.94    1.86    3.80     3.45   3.77   3.65    2.01   \n",
       "11  2001       1.71    1.72    3.51     3.40   3.57   3.27    2.20   \n",
       "12  2002       1.76    1.69    3.62     3.67   3.74   3.15    2.24   \n",
       "13  2003       2.19    1.99    4.35     4.59   4.53   3.47    2.04   \n",
       "14  2004       2.72    2.37    4.99     5.24   5.29   3.93    2.03   \n",
       "15  2005       3.23    2.89    5.46     5.66   5.74   4.28    2.22   \n",
       "16  2006       3.54    3.26    5.88     6.03   6.10   4.47    2.31   \n",
       "17  2007       3.85    3.59    6.60     6.88   6.73   4.49    2.40   \n",
       "18  2008       4.45    4.08    7.51     7.75   7.63   5.74    2.45   \n",
       "\n",
       "    South Korea    UK   USA  \n",
       "0          2.05  2.82  1.16  \n",
       "1          2.49  3.01  1.14  \n",
       "2          2.65  3.06  1.13  \n",
       "3          2.88  2.84  1.11  \n",
       "4          2.87  2.99  1.11  \n",
       "5          2.94  3.21  1.15  \n",
       "6          3.18  3.34  1.23  \n",
       "7          3.34  3.83  1.23  \n",
       "8          3.04  4.06  1.06  \n",
       "9          3.80  4.29  1.17  \n",
       "10         4.18  4.58  1.51  \n",
       "11         3.76  4.13  1.46  \n",
       "12         3.84  4.16  1.36  \n",
       "13         4.11  4.70  1.59  \n",
       "14         4.51  5.56  1.88  \n",
       "15         5.28  5.97  2.30  \n",
       "16         5.92  6.36  2.59  \n",
       "17         6.21  7.13  2.80  \n",
       "18         5.83  7.42  3.27  "
      ]
     },
     "execution_count": 9,
     "metadata": {},
     "output_type": "execute_result"
    }
   ],
   "source": [
    "gas_df"
   ]
  },
  {
   "cell_type": "markdown",
   "id": "1f91630c",
   "metadata": {},
   "source": [
    "## Calculate the MeanSquare Error in Our Model"
   ]
  },
  {
   "cell_type": "code",
   "execution_count": 10,
   "id": "cb8e9cc5",
   "metadata": {},
   "outputs": [
    {
     "data": {
      "text/plain": [
       "2.0392518571242384"
      ]
     },
     "execution_count": 10,
     "metadata": {},
     "output_type": "execute_result"
    }
   ],
   "source": [
    "#pass the y_test value and y_prediction value \n",
    "mean_squared_error_linear=mean_squared_error(y_test,y_prediction)\n",
    "mean_squared_error_linear"
   ]
  },
  {
   "cell_type": "markdown",
   "id": "e91c7fda",
   "metadata": {},
   "source": [
    "# Ridge Regression Model\n",
    "## similar to Linear Regression only that it helps in reduction of underfitting and overfitting capabilities by use of squared values of mean.\n",
    "## appropriate when there are many variables with less data set\n"
   ]
  },
  {
   "cell_type": "code",
   "execution_count": 11,
   "id": "5f5c2a80",
   "metadata": {},
   "outputs": [],
   "source": [
    "from sklearn.linear_model import Ridge\n",
    "#init the Ridge Regression Model by passing an alpha value greater than 0 since 0 stands for linearRegression\n",
    "model_ridge_regression=Ridge(alpha=1)"
   ]
  },
  {
   "cell_type": "markdown",
   "id": "7eda9470",
   "metadata": {},
   "source": [
    "### Train  The Ridge Model Using The Fit Method "
   ]
  },
  {
   "cell_type": "code",
   "execution_count": 12,
   "id": "c35e210a",
   "metadata": {},
   "outputs": [
    {
     "data": {
      "text/html": [
       "<style>#sk-container-id-2 {color: black;}#sk-container-id-2 pre{padding: 0;}#sk-container-id-2 div.sk-toggleable {background-color: white;}#sk-container-id-2 label.sk-toggleable__label {cursor: pointer;display: block;width: 100%;margin-bottom: 0;padding: 0.3em;box-sizing: border-box;text-align: center;}#sk-container-id-2 label.sk-toggleable__label-arrow:before {content: \"▸\";float: left;margin-right: 0.25em;color: #696969;}#sk-container-id-2 label.sk-toggleable__label-arrow:hover:before {color: black;}#sk-container-id-2 div.sk-estimator:hover label.sk-toggleable__label-arrow:before {color: black;}#sk-container-id-2 div.sk-toggleable__content {max-height: 0;max-width: 0;overflow: hidden;text-align: left;background-color: #f0f8ff;}#sk-container-id-2 div.sk-toggleable__content pre {margin: 0.2em;color: black;border-radius: 0.25em;background-color: #f0f8ff;}#sk-container-id-2 input.sk-toggleable__control:checked~div.sk-toggleable__content {max-height: 200px;max-width: 100%;overflow: auto;}#sk-container-id-2 input.sk-toggleable__control:checked~label.sk-toggleable__label-arrow:before {content: \"▾\";}#sk-container-id-2 div.sk-estimator input.sk-toggleable__control:checked~label.sk-toggleable__label {background-color: #d4ebff;}#sk-container-id-2 div.sk-label input.sk-toggleable__control:checked~label.sk-toggleable__label {background-color: #d4ebff;}#sk-container-id-2 input.sk-hidden--visually {border: 0;clip: rect(1px 1px 1px 1px);clip: rect(1px, 1px, 1px, 1px);height: 1px;margin: -1px;overflow: hidden;padding: 0;position: absolute;width: 1px;}#sk-container-id-2 div.sk-estimator {font-family: monospace;background-color: #f0f8ff;border: 1px dotted black;border-radius: 0.25em;box-sizing: border-box;margin-bottom: 0.5em;}#sk-container-id-2 div.sk-estimator:hover {background-color: #d4ebff;}#sk-container-id-2 div.sk-parallel-item::after {content: \"\";width: 100%;border-bottom: 1px solid gray;flex-grow: 1;}#sk-container-id-2 div.sk-label:hover label.sk-toggleable__label {background-color: #d4ebff;}#sk-container-id-2 div.sk-serial::before {content: \"\";position: absolute;border-left: 1px solid gray;box-sizing: border-box;top: 0;bottom: 0;left: 50%;z-index: 0;}#sk-container-id-2 div.sk-serial {display: flex;flex-direction: column;align-items: center;background-color: white;padding-right: 0.2em;padding-left: 0.2em;position: relative;}#sk-container-id-2 div.sk-item {position: relative;z-index: 1;}#sk-container-id-2 div.sk-parallel {display: flex;align-items: stretch;justify-content: center;background-color: white;position: relative;}#sk-container-id-2 div.sk-item::before, #sk-container-id-2 div.sk-parallel-item::before {content: \"\";position: absolute;border-left: 1px solid gray;box-sizing: border-box;top: 0;bottom: 0;left: 50%;z-index: -1;}#sk-container-id-2 div.sk-parallel-item {display: flex;flex-direction: column;z-index: 1;position: relative;background-color: white;}#sk-container-id-2 div.sk-parallel-item:first-child::after {align-self: flex-end;width: 50%;}#sk-container-id-2 div.sk-parallel-item:last-child::after {align-self: flex-start;width: 50%;}#sk-container-id-2 div.sk-parallel-item:only-child::after {width: 0;}#sk-container-id-2 div.sk-dashed-wrapped {border: 1px dashed gray;margin: 0 0.4em 0.5em 0.4em;box-sizing: border-box;padding-bottom: 0.4em;background-color: white;}#sk-container-id-2 div.sk-label label {font-family: monospace;font-weight: bold;display: inline-block;line-height: 1.2em;}#sk-container-id-2 div.sk-label-container {text-align: center;}#sk-container-id-2 div.sk-container {/* jupyter's `normalize.less` sets `[hidden] { display: none; }` but bootstrap.min.css set `[hidden] { display: none !important; }` so we also need the `!important` here to be able to override the default hidden behavior on the sphinx rendered scikit-learn.org. See: https://github.com/scikit-learn/scikit-learn/issues/21755 */display: inline-block !important;position: relative;}#sk-container-id-2 div.sk-text-repr-fallback {display: none;}</style><div id=\"sk-container-id-2\" class=\"sk-top-container\"><div class=\"sk-text-repr-fallback\"><pre>Ridge(alpha=1)</pre><b>In a Jupyter environment, please rerun this cell to show the HTML representation or trust the notebook. <br />On GitHub, the HTML representation is unable to render, please try loading this page with nbviewer.org.</b></div><div class=\"sk-container\" hidden><div class=\"sk-item\"><div class=\"sk-estimator sk-toggleable\"><input class=\"sk-toggleable__control sk-hidden--visually\" id=\"sk-estimator-id-2\" type=\"checkbox\" checked><label for=\"sk-estimator-id-2\" class=\"sk-toggleable__label sk-toggleable__label-arrow\">Ridge</label><div class=\"sk-toggleable__content\"><pre>Ridge(alpha=1)</pre></div></div></div></div></div>"
      ],
      "text/plain": [
       "Ridge(alpha=1)"
      ]
     },
     "execution_count": 12,
     "metadata": {},
     "output_type": "execute_result"
    }
   ],
   "source": [
    "# use the fit method and pass the x_train, y_train\n",
    "model_ridge_regression.fit(x_train,y_train)"
   ]
  },
  {
   "cell_type": "markdown",
   "id": "ba2afab5",
   "metadata": {},
   "source": [
    "## Predict values using the trained Ridge Model"
   ]
  },
  {
   "cell_type": "code",
   "execution_count": 13,
   "id": "857f335b",
   "metadata": {},
   "outputs": [
    {
     "data": {
      "text/plain": [
       "array([2002.8061899 , 2001.39627856, 1993.97447311, 1994.63527978,\n",
       "       2007.1241617 , 2008.44384217])"
      ]
     },
     "execution_count": 13,
     "metadata": {},
     "output_type": "execute_result"
    }
   ],
   "source": [
    "#make predictions on the model using the x_test data set\n",
    "y_predict_ridge=model_ridge_regression.predict(x_test)\n",
    "y_predict_ridge"
   ]
  },
  {
   "cell_type": "code",
   "execution_count": 14,
   "id": "ac810add",
   "metadata": {},
   "outputs": [
    {
     "data": {
      "text/plain": [
       "array([[2.72, 2.37, 4.99, 5.24, 5.29, 3.93, 2.03, 4.51, 5.56, 1.88],\n",
       "       [2.19, 1.99, 4.35, 4.59, 4.53, 3.47, 2.04, 4.11, 4.7 , 1.59],\n",
       "       [1.73, 1.57, 3.41, 3.07, 3.68, 4.16, 1.56, 2.88, 2.84, 1.11],\n",
       "       [1.84, 1.45, 3.59, 3.52, 3.7 , 4.36, 1.48, 2.87, 2.99, 1.11],\n",
       "       [4.45, 4.08, 7.51, 7.75, 7.63, 5.74, 2.45, 5.83, 7.42, 3.27],\n",
       "       [3.85, 3.59, 6.6 , 6.88, 6.73, 4.49, 2.4 , 6.21, 7.13, 2.8 ]])"
      ]
     },
     "execution_count": 14,
     "metadata": {},
     "output_type": "execute_result"
    }
   ],
   "source": [
    "x_test"
   ]
  },
  {
   "cell_type": "code",
   "execution_count": 15,
   "id": "5f43b1e2",
   "metadata": {},
   "outputs": [
    {
     "data": {
      "text/plain": [
       "array([2004, 2003, 1993, 1994, 2008, 2007])"
      ]
     },
     "execution_count": 15,
     "metadata": {},
     "output_type": "execute_result"
    }
   ],
   "source": [
    "y_test"
   ]
  },
  {
   "cell_type": "code",
   "execution_count": 16,
   "id": "bec93b33",
   "metadata": {},
   "outputs": [
    {
     "data": {
      "text/html": [
       "<div>\n",
       "<style scoped>\n",
       "    .dataframe tbody tr th:only-of-type {\n",
       "        vertical-align: middle;\n",
       "    }\n",
       "\n",
       "    .dataframe tbody tr th {\n",
       "        vertical-align: top;\n",
       "    }\n",
       "\n",
       "    .dataframe thead th {\n",
       "        text-align: right;\n",
       "    }\n",
       "</style>\n",
       "<table border=\"1\" class=\"dataframe\">\n",
       "  <thead>\n",
       "    <tr style=\"text-align: right;\">\n",
       "      <th></th>\n",
       "      <th>Year</th>\n",
       "      <th>Australia</th>\n",
       "      <th>Canada</th>\n",
       "      <th>France</th>\n",
       "      <th>Germany</th>\n",
       "      <th>Italy</th>\n",
       "      <th>Japan</th>\n",
       "      <th>Mexico</th>\n",
       "      <th>South Korea</th>\n",
       "      <th>UK</th>\n",
       "      <th>USA</th>\n",
       "    </tr>\n",
       "  </thead>\n",
       "  <tbody>\n",
       "    <tr>\n",
       "      <th>0</th>\n",
       "      <td>1990</td>\n",
       "      <td>1.51</td>\n",
       "      <td>1.87</td>\n",
       "      <td>3.63</td>\n",
       "      <td>2.65</td>\n",
       "      <td>4.59</td>\n",
       "      <td>3.16</td>\n",
       "      <td>1.00</td>\n",
       "      <td>2.05</td>\n",
       "      <td>2.82</td>\n",
       "      <td>1.16</td>\n",
       "    </tr>\n",
       "    <tr>\n",
       "      <th>1</th>\n",
       "      <td>1991</td>\n",
       "      <td>1.96</td>\n",
       "      <td>1.92</td>\n",
       "      <td>3.45</td>\n",
       "      <td>2.90</td>\n",
       "      <td>4.50</td>\n",
       "      <td>3.46</td>\n",
       "      <td>1.30</td>\n",
       "      <td>2.49</td>\n",
       "      <td>3.01</td>\n",
       "      <td>1.14</td>\n",
       "    </tr>\n",
       "    <tr>\n",
       "      <th>2</th>\n",
       "      <td>1992</td>\n",
       "      <td>1.89</td>\n",
       "      <td>1.73</td>\n",
       "      <td>3.56</td>\n",
       "      <td>3.27</td>\n",
       "      <td>4.53</td>\n",
       "      <td>3.58</td>\n",
       "      <td>1.50</td>\n",
       "      <td>2.65</td>\n",
       "      <td>3.06</td>\n",
       "      <td>1.13</td>\n",
       "    </tr>\n",
       "    <tr>\n",
       "      <th>3</th>\n",
       "      <td>1993</td>\n",
       "      <td>1.73</td>\n",
       "      <td>1.57</td>\n",
       "      <td>3.41</td>\n",
       "      <td>3.07</td>\n",
       "      <td>3.68</td>\n",
       "      <td>4.16</td>\n",
       "      <td>1.56</td>\n",
       "      <td>2.88</td>\n",
       "      <td>2.84</td>\n",
       "      <td>1.11</td>\n",
       "    </tr>\n",
       "    <tr>\n",
       "      <th>4</th>\n",
       "      <td>1994</td>\n",
       "      <td>1.84</td>\n",
       "      <td>1.45</td>\n",
       "      <td>3.59</td>\n",
       "      <td>3.52</td>\n",
       "      <td>3.70</td>\n",
       "      <td>4.36</td>\n",
       "      <td>1.48</td>\n",
       "      <td>2.87</td>\n",
       "      <td>2.99</td>\n",
       "      <td>1.11</td>\n",
       "    </tr>\n",
       "    <tr>\n",
       "      <th>5</th>\n",
       "      <td>1995</td>\n",
       "      <td>1.95</td>\n",
       "      <td>1.53</td>\n",
       "      <td>4.26</td>\n",
       "      <td>3.96</td>\n",
       "      <td>4.00</td>\n",
       "      <td>4.43</td>\n",
       "      <td>1.11</td>\n",
       "      <td>2.94</td>\n",
       "      <td>3.21</td>\n",
       "      <td>1.15</td>\n",
       "    </tr>\n",
       "    <tr>\n",
       "      <th>6</th>\n",
       "      <td>1996</td>\n",
       "      <td>2.12</td>\n",
       "      <td>1.61</td>\n",
       "      <td>4.41</td>\n",
       "      <td>3.94</td>\n",
       "      <td>4.39</td>\n",
       "      <td>3.64</td>\n",
       "      <td>1.25</td>\n",
       "      <td>3.18</td>\n",
       "      <td>3.34</td>\n",
       "      <td>1.23</td>\n",
       "    </tr>\n",
       "    <tr>\n",
       "      <th>7</th>\n",
       "      <td>1997</td>\n",
       "      <td>2.05</td>\n",
       "      <td>1.62</td>\n",
       "      <td>4.00</td>\n",
       "      <td>3.53</td>\n",
       "      <td>4.07</td>\n",
       "      <td>3.26</td>\n",
       "      <td>1.47</td>\n",
       "      <td>3.34</td>\n",
       "      <td>3.83</td>\n",
       "      <td>1.23</td>\n",
       "    </tr>\n",
       "    <tr>\n",
       "      <th>8</th>\n",
       "      <td>1998</td>\n",
       "      <td>1.63</td>\n",
       "      <td>1.38</td>\n",
       "      <td>3.87</td>\n",
       "      <td>3.34</td>\n",
       "      <td>3.84</td>\n",
       "      <td>2.82</td>\n",
       "      <td>1.49</td>\n",
       "      <td>3.04</td>\n",
       "      <td>4.06</td>\n",
       "      <td>1.06</td>\n",
       "    </tr>\n",
       "    <tr>\n",
       "      <th>9</th>\n",
       "      <td>1999</td>\n",
       "      <td>1.72</td>\n",
       "      <td>1.52</td>\n",
       "      <td>3.85</td>\n",
       "      <td>3.42</td>\n",
       "      <td>3.87</td>\n",
       "      <td>3.27</td>\n",
       "      <td>1.79</td>\n",
       "      <td>3.80</td>\n",
       "      <td>4.29</td>\n",
       "      <td>1.17</td>\n",
       "    </tr>\n",
       "    <tr>\n",
       "      <th>10</th>\n",
       "      <td>2000</td>\n",
       "      <td>1.94</td>\n",
       "      <td>1.86</td>\n",
       "      <td>3.80</td>\n",
       "      <td>3.45</td>\n",
       "      <td>3.77</td>\n",
       "      <td>3.65</td>\n",
       "      <td>2.01</td>\n",
       "      <td>4.18</td>\n",
       "      <td>4.58</td>\n",
       "      <td>1.51</td>\n",
       "    </tr>\n",
       "    <tr>\n",
       "      <th>11</th>\n",
       "      <td>2001</td>\n",
       "      <td>1.71</td>\n",
       "      <td>1.72</td>\n",
       "      <td>3.51</td>\n",
       "      <td>3.40</td>\n",
       "      <td>3.57</td>\n",
       "      <td>3.27</td>\n",
       "      <td>2.20</td>\n",
       "      <td>3.76</td>\n",
       "      <td>4.13</td>\n",
       "      <td>1.46</td>\n",
       "    </tr>\n",
       "    <tr>\n",
       "      <th>12</th>\n",
       "      <td>2002</td>\n",
       "      <td>1.76</td>\n",
       "      <td>1.69</td>\n",
       "      <td>3.62</td>\n",
       "      <td>3.67</td>\n",
       "      <td>3.74</td>\n",
       "      <td>3.15</td>\n",
       "      <td>2.24</td>\n",
       "      <td>3.84</td>\n",
       "      <td>4.16</td>\n",
       "      <td>1.36</td>\n",
       "    </tr>\n",
       "    <tr>\n",
       "      <th>13</th>\n",
       "      <td>2003</td>\n",
       "      <td>2.19</td>\n",
       "      <td>1.99</td>\n",
       "      <td>4.35</td>\n",
       "      <td>4.59</td>\n",
       "      <td>4.53</td>\n",
       "      <td>3.47</td>\n",
       "      <td>2.04</td>\n",
       "      <td>4.11</td>\n",
       "      <td>4.70</td>\n",
       "      <td>1.59</td>\n",
       "    </tr>\n",
       "    <tr>\n",
       "      <th>14</th>\n",
       "      <td>2004</td>\n",
       "      <td>2.72</td>\n",
       "      <td>2.37</td>\n",
       "      <td>4.99</td>\n",
       "      <td>5.24</td>\n",
       "      <td>5.29</td>\n",
       "      <td>3.93</td>\n",
       "      <td>2.03</td>\n",
       "      <td>4.51</td>\n",
       "      <td>5.56</td>\n",
       "      <td>1.88</td>\n",
       "    </tr>\n",
       "    <tr>\n",
       "      <th>15</th>\n",
       "      <td>2005</td>\n",
       "      <td>3.23</td>\n",
       "      <td>2.89</td>\n",
       "      <td>5.46</td>\n",
       "      <td>5.66</td>\n",
       "      <td>5.74</td>\n",
       "      <td>4.28</td>\n",
       "      <td>2.22</td>\n",
       "      <td>5.28</td>\n",
       "      <td>5.97</td>\n",
       "      <td>2.30</td>\n",
       "    </tr>\n",
       "    <tr>\n",
       "      <th>16</th>\n",
       "      <td>2006</td>\n",
       "      <td>3.54</td>\n",
       "      <td>3.26</td>\n",
       "      <td>5.88</td>\n",
       "      <td>6.03</td>\n",
       "      <td>6.10</td>\n",
       "      <td>4.47</td>\n",
       "      <td>2.31</td>\n",
       "      <td>5.92</td>\n",
       "      <td>6.36</td>\n",
       "      <td>2.59</td>\n",
       "    </tr>\n",
       "    <tr>\n",
       "      <th>17</th>\n",
       "      <td>2007</td>\n",
       "      <td>3.85</td>\n",
       "      <td>3.59</td>\n",
       "      <td>6.60</td>\n",
       "      <td>6.88</td>\n",
       "      <td>6.73</td>\n",
       "      <td>4.49</td>\n",
       "      <td>2.40</td>\n",
       "      <td>6.21</td>\n",
       "      <td>7.13</td>\n",
       "      <td>2.80</td>\n",
       "    </tr>\n",
       "    <tr>\n",
       "      <th>18</th>\n",
       "      <td>2008</td>\n",
       "      <td>4.45</td>\n",
       "      <td>4.08</td>\n",
       "      <td>7.51</td>\n",
       "      <td>7.75</td>\n",
       "      <td>7.63</td>\n",
       "      <td>5.74</td>\n",
       "      <td>2.45</td>\n",
       "      <td>5.83</td>\n",
       "      <td>7.42</td>\n",
       "      <td>3.27</td>\n",
       "    </tr>\n",
       "  </tbody>\n",
       "</table>\n",
       "</div>"
      ],
      "text/plain": [
       "    Year  Australia  Canada  France  Germany  Italy  Japan  Mexico  \\\n",
       "0   1990       1.51    1.87    3.63     2.65   4.59   3.16    1.00   \n",
       "1   1991       1.96    1.92    3.45     2.90   4.50   3.46    1.30   \n",
       "2   1992       1.89    1.73    3.56     3.27   4.53   3.58    1.50   \n",
       "3   1993       1.73    1.57    3.41     3.07   3.68   4.16    1.56   \n",
       "4   1994       1.84    1.45    3.59     3.52   3.70   4.36    1.48   \n",
       "5   1995       1.95    1.53    4.26     3.96   4.00   4.43    1.11   \n",
       "6   1996       2.12    1.61    4.41     3.94   4.39   3.64    1.25   \n",
       "7   1997       2.05    1.62    4.00     3.53   4.07   3.26    1.47   \n",
       "8   1998       1.63    1.38    3.87     3.34   3.84   2.82    1.49   \n",
       "9   1999       1.72    1.52    3.85     3.42   3.87   3.27    1.79   \n",
       "10  2000       1.94    1.86    3.80     3.45   3.77   3.65    2.01   \n",
       "11  2001       1.71    1.72    3.51     3.40   3.57   3.27    2.20   \n",
       "12  2002       1.76    1.69    3.62     3.67   3.74   3.15    2.24   \n",
       "13  2003       2.19    1.99    4.35     4.59   4.53   3.47    2.04   \n",
       "14  2004       2.72    2.37    4.99     5.24   5.29   3.93    2.03   \n",
       "15  2005       3.23    2.89    5.46     5.66   5.74   4.28    2.22   \n",
       "16  2006       3.54    3.26    5.88     6.03   6.10   4.47    2.31   \n",
       "17  2007       3.85    3.59    6.60     6.88   6.73   4.49    2.40   \n",
       "18  2008       4.45    4.08    7.51     7.75   7.63   5.74    2.45   \n",
       "\n",
       "    South Korea    UK   USA  \n",
       "0          2.05  2.82  1.16  \n",
       "1          2.49  3.01  1.14  \n",
       "2          2.65  3.06  1.13  \n",
       "3          2.88  2.84  1.11  \n",
       "4          2.87  2.99  1.11  \n",
       "5          2.94  3.21  1.15  \n",
       "6          3.18  3.34  1.23  \n",
       "7          3.34  3.83  1.23  \n",
       "8          3.04  4.06  1.06  \n",
       "9          3.80  4.29  1.17  \n",
       "10         4.18  4.58  1.51  \n",
       "11         3.76  4.13  1.46  \n",
       "12         3.84  4.16  1.36  \n",
       "13         4.11  4.70  1.59  \n",
       "14         4.51  5.56  1.88  \n",
       "15         5.28  5.97  2.30  \n",
       "16         5.92  6.36  2.59  \n",
       "17         6.21  7.13  2.80  \n",
       "18         5.83  7.42  3.27  "
      ]
     },
     "execution_count": 16,
     "metadata": {},
     "output_type": "execute_result"
    }
   ],
   "source": [
    "gas_df"
   ]
  },
  {
   "cell_type": "markdown",
   "id": "042dc8e6",
   "metadata": {},
   "source": [
    "## Calculate the Mean Square Error for Ridge Model\n",
    "### The less it is the more efficient the model is in predciction and reliability"
   ]
  },
  {
   "cell_type": "code",
   "execution_count": null,
   "id": "392ce1d7",
   "metadata": {},
   "outputs": [],
   "source": []
  },
  {
   "cell_type": "code",
   "execution_count": 17,
   "id": "08a37a88",
   "metadata": {},
   "outputs": [
    {
     "data": {
      "text/plain": [
       "1.3670093656924351"
      ]
     },
     "execution_count": 17,
     "metadata": {},
     "output_type": "execute_result"
    }
   ],
   "source": [
    "mean_square_error_ridge=mean_squared_error(y_test,y_predict_ridge)\n",
    "mean_square_error_ridge"
   ]
  },
  {
   "cell_type": "markdown",
   "id": "4f554ac7",
   "metadata": {},
   "source": [
    "## Lasso Regression Model\n",
    "### similar to the linear regression and Ridger Regression with slight deference being that its best when the variables of are few in a dataset"
   ]
  },
  {
   "cell_type": "code",
   "execution_count": 18,
   "id": "2c7abdf5",
   "metadata": {},
   "outputs": [],
   "source": [
    "from sklearn.linear_model import Lasso\n",
    "#init the Lassdo regression model with an alpha value greater than  0  else it will behave like linear regression\n",
    "lasso_reg_model=Lasso(alpha=1)"
   ]
  },
  {
   "cell_type": "markdown",
   "id": "e5dc14f8",
   "metadata": {},
   "source": [
    "## Train the Lasso Model"
   ]
  },
  {
   "cell_type": "code",
   "execution_count": 19,
   "id": "7d4cd49e",
   "metadata": {},
   "outputs": [
    {
     "data": {
      "text/html": [
       "<style>#sk-container-id-3 {color: black;}#sk-container-id-3 pre{padding: 0;}#sk-container-id-3 div.sk-toggleable {background-color: white;}#sk-container-id-3 label.sk-toggleable__label {cursor: pointer;display: block;width: 100%;margin-bottom: 0;padding: 0.3em;box-sizing: border-box;text-align: center;}#sk-container-id-3 label.sk-toggleable__label-arrow:before {content: \"▸\";float: left;margin-right: 0.25em;color: #696969;}#sk-container-id-3 label.sk-toggleable__label-arrow:hover:before {color: black;}#sk-container-id-3 div.sk-estimator:hover label.sk-toggleable__label-arrow:before {color: black;}#sk-container-id-3 div.sk-toggleable__content {max-height: 0;max-width: 0;overflow: hidden;text-align: left;background-color: #f0f8ff;}#sk-container-id-3 div.sk-toggleable__content pre {margin: 0.2em;color: black;border-radius: 0.25em;background-color: #f0f8ff;}#sk-container-id-3 input.sk-toggleable__control:checked~div.sk-toggleable__content {max-height: 200px;max-width: 100%;overflow: auto;}#sk-container-id-3 input.sk-toggleable__control:checked~label.sk-toggleable__label-arrow:before {content: \"▾\";}#sk-container-id-3 div.sk-estimator input.sk-toggleable__control:checked~label.sk-toggleable__label {background-color: #d4ebff;}#sk-container-id-3 div.sk-label input.sk-toggleable__control:checked~label.sk-toggleable__label {background-color: #d4ebff;}#sk-container-id-3 input.sk-hidden--visually {border: 0;clip: rect(1px 1px 1px 1px);clip: rect(1px, 1px, 1px, 1px);height: 1px;margin: -1px;overflow: hidden;padding: 0;position: absolute;width: 1px;}#sk-container-id-3 div.sk-estimator {font-family: monospace;background-color: #f0f8ff;border: 1px dotted black;border-radius: 0.25em;box-sizing: border-box;margin-bottom: 0.5em;}#sk-container-id-3 div.sk-estimator:hover {background-color: #d4ebff;}#sk-container-id-3 div.sk-parallel-item::after {content: \"\";width: 100%;border-bottom: 1px solid gray;flex-grow: 1;}#sk-container-id-3 div.sk-label:hover label.sk-toggleable__label {background-color: #d4ebff;}#sk-container-id-3 div.sk-serial::before {content: \"\";position: absolute;border-left: 1px solid gray;box-sizing: border-box;top: 0;bottom: 0;left: 50%;z-index: 0;}#sk-container-id-3 div.sk-serial {display: flex;flex-direction: column;align-items: center;background-color: white;padding-right: 0.2em;padding-left: 0.2em;position: relative;}#sk-container-id-3 div.sk-item {position: relative;z-index: 1;}#sk-container-id-3 div.sk-parallel {display: flex;align-items: stretch;justify-content: center;background-color: white;position: relative;}#sk-container-id-3 div.sk-item::before, #sk-container-id-3 div.sk-parallel-item::before {content: \"\";position: absolute;border-left: 1px solid gray;box-sizing: border-box;top: 0;bottom: 0;left: 50%;z-index: -1;}#sk-container-id-3 div.sk-parallel-item {display: flex;flex-direction: column;z-index: 1;position: relative;background-color: white;}#sk-container-id-3 div.sk-parallel-item:first-child::after {align-self: flex-end;width: 50%;}#sk-container-id-3 div.sk-parallel-item:last-child::after {align-self: flex-start;width: 50%;}#sk-container-id-3 div.sk-parallel-item:only-child::after {width: 0;}#sk-container-id-3 div.sk-dashed-wrapped {border: 1px dashed gray;margin: 0 0.4em 0.5em 0.4em;box-sizing: border-box;padding-bottom: 0.4em;background-color: white;}#sk-container-id-3 div.sk-label label {font-family: monospace;font-weight: bold;display: inline-block;line-height: 1.2em;}#sk-container-id-3 div.sk-label-container {text-align: center;}#sk-container-id-3 div.sk-container {/* jupyter's `normalize.less` sets `[hidden] { display: none; }` but bootstrap.min.css set `[hidden] { display: none !important; }` so we also need the `!important` here to be able to override the default hidden behavior on the sphinx rendered scikit-learn.org. See: https://github.com/scikit-learn/scikit-learn/issues/21755 */display: inline-block !important;position: relative;}#sk-container-id-3 div.sk-text-repr-fallback {display: none;}</style><div id=\"sk-container-id-3\" class=\"sk-top-container\"><div class=\"sk-text-repr-fallback\"><pre>Lasso(alpha=1)</pre><b>In a Jupyter environment, please rerun this cell to show the HTML representation or trust the notebook. <br />On GitHub, the HTML representation is unable to render, please try loading this page with nbviewer.org.</b></div><div class=\"sk-container\" hidden><div class=\"sk-item\"><div class=\"sk-estimator sk-toggleable\"><input class=\"sk-toggleable__control sk-hidden--visually\" id=\"sk-estimator-id-3\" type=\"checkbox\" checked><label for=\"sk-estimator-id-3\" class=\"sk-toggleable__label sk-toggleable__label-arrow\">Lasso</label><div class=\"sk-toggleable__content\"><pre>Lasso(alpha=1)</pre></div></div></div></div></div>"
      ],
      "text/plain": [
       "Lasso(alpha=1)"
      ]
     },
     "execution_count": 19,
     "metadata": {},
     "output_type": "execute_result"
    }
   ],
   "source": [
    "#pass the x_train and y_train into the model using the fit method\n",
    "lasso_reg_model.fit(x_train,y_train)"
   ]
  },
  {
   "cell_type": "markdown",
   "id": "8608ae84",
   "metadata": {},
   "source": [
    "## Predict using the Lasso Model"
   ]
  },
  {
   "cell_type": "code",
   "execution_count": 20,
   "id": "ed201320",
   "metadata": {},
   "outputs": [
    {
     "data": {
      "text/plain": [
       "array([2001.22019274, 1999.72375563, 1995.31342841, 1995.31781951,\n",
       "       2005.92005392, 2007.07184496])"
      ]
     },
     "execution_count": 20,
     "metadata": {},
     "output_type": "execute_result"
    }
   ],
   "source": [
    "#pass the x_test data into the model obtain the output\n",
    "y_predict_lasso=lasso_reg_model.predict(x_test)\n",
    "y_predict_lasso"
   ]
  },
  {
   "cell_type": "code",
   "execution_count": 21,
   "id": "7761d9a4",
   "metadata": {},
   "outputs": [
    {
     "data": {
      "text/plain": [
       "array([[2.72, 2.37, 4.99, 5.24, 5.29, 3.93, 2.03, 4.51, 5.56, 1.88],\n",
       "       [2.19, 1.99, 4.35, 4.59, 4.53, 3.47, 2.04, 4.11, 4.7 , 1.59],\n",
       "       [1.73, 1.57, 3.41, 3.07, 3.68, 4.16, 1.56, 2.88, 2.84, 1.11],\n",
       "       [1.84, 1.45, 3.59, 3.52, 3.7 , 4.36, 1.48, 2.87, 2.99, 1.11],\n",
       "       [4.45, 4.08, 7.51, 7.75, 7.63, 5.74, 2.45, 5.83, 7.42, 3.27],\n",
       "       [3.85, 3.59, 6.6 , 6.88, 6.73, 4.49, 2.4 , 6.21, 7.13, 2.8 ]])"
      ]
     },
     "execution_count": 21,
     "metadata": {},
     "output_type": "execute_result"
    }
   ],
   "source": [
    "x_test"
   ]
  },
  {
   "cell_type": "code",
   "execution_count": 22,
   "id": "08a48496",
   "metadata": {},
   "outputs": [
    {
     "data": {
      "text/plain": [
       "array([2004, 2003, 1993, 1994, 2008, 2007])"
      ]
     },
     "execution_count": 22,
     "metadata": {},
     "output_type": "execute_result"
    }
   ],
   "source": [
    "y_test"
   ]
  },
  {
   "cell_type": "code",
   "execution_count": 23,
   "id": "d0f89d80",
   "metadata": {},
   "outputs": [
    {
     "data": {
      "text/html": [
       "<div>\n",
       "<style scoped>\n",
       "    .dataframe tbody tr th:only-of-type {\n",
       "        vertical-align: middle;\n",
       "    }\n",
       "\n",
       "    .dataframe tbody tr th {\n",
       "        vertical-align: top;\n",
       "    }\n",
       "\n",
       "    .dataframe thead th {\n",
       "        text-align: right;\n",
       "    }\n",
       "</style>\n",
       "<table border=\"1\" class=\"dataframe\">\n",
       "  <thead>\n",
       "    <tr style=\"text-align: right;\">\n",
       "      <th></th>\n",
       "      <th>Year</th>\n",
       "      <th>Australia</th>\n",
       "      <th>Canada</th>\n",
       "      <th>France</th>\n",
       "      <th>Germany</th>\n",
       "      <th>Italy</th>\n",
       "      <th>Japan</th>\n",
       "      <th>Mexico</th>\n",
       "      <th>South Korea</th>\n",
       "      <th>UK</th>\n",
       "      <th>USA</th>\n",
       "    </tr>\n",
       "  </thead>\n",
       "  <tbody>\n",
       "    <tr>\n",
       "      <th>0</th>\n",
       "      <td>1990</td>\n",
       "      <td>1.51</td>\n",
       "      <td>1.87</td>\n",
       "      <td>3.63</td>\n",
       "      <td>2.65</td>\n",
       "      <td>4.59</td>\n",
       "      <td>3.16</td>\n",
       "      <td>1.00</td>\n",
       "      <td>2.05</td>\n",
       "      <td>2.82</td>\n",
       "      <td>1.16</td>\n",
       "    </tr>\n",
       "    <tr>\n",
       "      <th>1</th>\n",
       "      <td>1991</td>\n",
       "      <td>1.96</td>\n",
       "      <td>1.92</td>\n",
       "      <td>3.45</td>\n",
       "      <td>2.90</td>\n",
       "      <td>4.50</td>\n",
       "      <td>3.46</td>\n",
       "      <td>1.30</td>\n",
       "      <td>2.49</td>\n",
       "      <td>3.01</td>\n",
       "      <td>1.14</td>\n",
       "    </tr>\n",
       "    <tr>\n",
       "      <th>2</th>\n",
       "      <td>1992</td>\n",
       "      <td>1.89</td>\n",
       "      <td>1.73</td>\n",
       "      <td>3.56</td>\n",
       "      <td>3.27</td>\n",
       "      <td>4.53</td>\n",
       "      <td>3.58</td>\n",
       "      <td>1.50</td>\n",
       "      <td>2.65</td>\n",
       "      <td>3.06</td>\n",
       "      <td>1.13</td>\n",
       "    </tr>\n",
       "    <tr>\n",
       "      <th>3</th>\n",
       "      <td>1993</td>\n",
       "      <td>1.73</td>\n",
       "      <td>1.57</td>\n",
       "      <td>3.41</td>\n",
       "      <td>3.07</td>\n",
       "      <td>3.68</td>\n",
       "      <td>4.16</td>\n",
       "      <td>1.56</td>\n",
       "      <td>2.88</td>\n",
       "      <td>2.84</td>\n",
       "      <td>1.11</td>\n",
       "    </tr>\n",
       "    <tr>\n",
       "      <th>4</th>\n",
       "      <td>1994</td>\n",
       "      <td>1.84</td>\n",
       "      <td>1.45</td>\n",
       "      <td>3.59</td>\n",
       "      <td>3.52</td>\n",
       "      <td>3.70</td>\n",
       "      <td>4.36</td>\n",
       "      <td>1.48</td>\n",
       "      <td>2.87</td>\n",
       "      <td>2.99</td>\n",
       "      <td>1.11</td>\n",
       "    </tr>\n",
       "    <tr>\n",
       "      <th>5</th>\n",
       "      <td>1995</td>\n",
       "      <td>1.95</td>\n",
       "      <td>1.53</td>\n",
       "      <td>4.26</td>\n",
       "      <td>3.96</td>\n",
       "      <td>4.00</td>\n",
       "      <td>4.43</td>\n",
       "      <td>1.11</td>\n",
       "      <td>2.94</td>\n",
       "      <td>3.21</td>\n",
       "      <td>1.15</td>\n",
       "    </tr>\n",
       "    <tr>\n",
       "      <th>6</th>\n",
       "      <td>1996</td>\n",
       "      <td>2.12</td>\n",
       "      <td>1.61</td>\n",
       "      <td>4.41</td>\n",
       "      <td>3.94</td>\n",
       "      <td>4.39</td>\n",
       "      <td>3.64</td>\n",
       "      <td>1.25</td>\n",
       "      <td>3.18</td>\n",
       "      <td>3.34</td>\n",
       "      <td>1.23</td>\n",
       "    </tr>\n",
       "    <tr>\n",
       "      <th>7</th>\n",
       "      <td>1997</td>\n",
       "      <td>2.05</td>\n",
       "      <td>1.62</td>\n",
       "      <td>4.00</td>\n",
       "      <td>3.53</td>\n",
       "      <td>4.07</td>\n",
       "      <td>3.26</td>\n",
       "      <td>1.47</td>\n",
       "      <td>3.34</td>\n",
       "      <td>3.83</td>\n",
       "      <td>1.23</td>\n",
       "    </tr>\n",
       "    <tr>\n",
       "      <th>8</th>\n",
       "      <td>1998</td>\n",
       "      <td>1.63</td>\n",
       "      <td>1.38</td>\n",
       "      <td>3.87</td>\n",
       "      <td>3.34</td>\n",
       "      <td>3.84</td>\n",
       "      <td>2.82</td>\n",
       "      <td>1.49</td>\n",
       "      <td>3.04</td>\n",
       "      <td>4.06</td>\n",
       "      <td>1.06</td>\n",
       "    </tr>\n",
       "    <tr>\n",
       "      <th>9</th>\n",
       "      <td>1999</td>\n",
       "      <td>1.72</td>\n",
       "      <td>1.52</td>\n",
       "      <td>3.85</td>\n",
       "      <td>3.42</td>\n",
       "      <td>3.87</td>\n",
       "      <td>3.27</td>\n",
       "      <td>1.79</td>\n",
       "      <td>3.80</td>\n",
       "      <td>4.29</td>\n",
       "      <td>1.17</td>\n",
       "    </tr>\n",
       "    <tr>\n",
       "      <th>10</th>\n",
       "      <td>2000</td>\n",
       "      <td>1.94</td>\n",
       "      <td>1.86</td>\n",
       "      <td>3.80</td>\n",
       "      <td>3.45</td>\n",
       "      <td>3.77</td>\n",
       "      <td>3.65</td>\n",
       "      <td>2.01</td>\n",
       "      <td>4.18</td>\n",
       "      <td>4.58</td>\n",
       "      <td>1.51</td>\n",
       "    </tr>\n",
       "    <tr>\n",
       "      <th>11</th>\n",
       "      <td>2001</td>\n",
       "      <td>1.71</td>\n",
       "      <td>1.72</td>\n",
       "      <td>3.51</td>\n",
       "      <td>3.40</td>\n",
       "      <td>3.57</td>\n",
       "      <td>3.27</td>\n",
       "      <td>2.20</td>\n",
       "      <td>3.76</td>\n",
       "      <td>4.13</td>\n",
       "      <td>1.46</td>\n",
       "    </tr>\n",
       "    <tr>\n",
       "      <th>12</th>\n",
       "      <td>2002</td>\n",
       "      <td>1.76</td>\n",
       "      <td>1.69</td>\n",
       "      <td>3.62</td>\n",
       "      <td>3.67</td>\n",
       "      <td>3.74</td>\n",
       "      <td>3.15</td>\n",
       "      <td>2.24</td>\n",
       "      <td>3.84</td>\n",
       "      <td>4.16</td>\n",
       "      <td>1.36</td>\n",
       "    </tr>\n",
       "    <tr>\n",
       "      <th>13</th>\n",
       "      <td>2003</td>\n",
       "      <td>2.19</td>\n",
       "      <td>1.99</td>\n",
       "      <td>4.35</td>\n",
       "      <td>4.59</td>\n",
       "      <td>4.53</td>\n",
       "      <td>3.47</td>\n",
       "      <td>2.04</td>\n",
       "      <td>4.11</td>\n",
       "      <td>4.70</td>\n",
       "      <td>1.59</td>\n",
       "    </tr>\n",
       "    <tr>\n",
       "      <th>14</th>\n",
       "      <td>2004</td>\n",
       "      <td>2.72</td>\n",
       "      <td>2.37</td>\n",
       "      <td>4.99</td>\n",
       "      <td>5.24</td>\n",
       "      <td>5.29</td>\n",
       "      <td>3.93</td>\n",
       "      <td>2.03</td>\n",
       "      <td>4.51</td>\n",
       "      <td>5.56</td>\n",
       "      <td>1.88</td>\n",
       "    </tr>\n",
       "    <tr>\n",
       "      <th>15</th>\n",
       "      <td>2005</td>\n",
       "      <td>3.23</td>\n",
       "      <td>2.89</td>\n",
       "      <td>5.46</td>\n",
       "      <td>5.66</td>\n",
       "      <td>5.74</td>\n",
       "      <td>4.28</td>\n",
       "      <td>2.22</td>\n",
       "      <td>5.28</td>\n",
       "      <td>5.97</td>\n",
       "      <td>2.30</td>\n",
       "    </tr>\n",
       "    <tr>\n",
       "      <th>16</th>\n",
       "      <td>2006</td>\n",
       "      <td>3.54</td>\n",
       "      <td>3.26</td>\n",
       "      <td>5.88</td>\n",
       "      <td>6.03</td>\n",
       "      <td>6.10</td>\n",
       "      <td>4.47</td>\n",
       "      <td>2.31</td>\n",
       "      <td>5.92</td>\n",
       "      <td>6.36</td>\n",
       "      <td>2.59</td>\n",
       "    </tr>\n",
       "    <tr>\n",
       "      <th>17</th>\n",
       "      <td>2007</td>\n",
       "      <td>3.85</td>\n",
       "      <td>3.59</td>\n",
       "      <td>6.60</td>\n",
       "      <td>6.88</td>\n",
       "      <td>6.73</td>\n",
       "      <td>4.49</td>\n",
       "      <td>2.40</td>\n",
       "      <td>6.21</td>\n",
       "      <td>7.13</td>\n",
       "      <td>2.80</td>\n",
       "    </tr>\n",
       "    <tr>\n",
       "      <th>18</th>\n",
       "      <td>2008</td>\n",
       "      <td>4.45</td>\n",
       "      <td>4.08</td>\n",
       "      <td>7.51</td>\n",
       "      <td>7.75</td>\n",
       "      <td>7.63</td>\n",
       "      <td>5.74</td>\n",
       "      <td>2.45</td>\n",
       "      <td>5.83</td>\n",
       "      <td>7.42</td>\n",
       "      <td>3.27</td>\n",
       "    </tr>\n",
       "  </tbody>\n",
       "</table>\n",
       "</div>"
      ],
      "text/plain": [
       "    Year  Australia  Canada  France  Germany  Italy  Japan  Mexico  \\\n",
       "0   1990       1.51    1.87    3.63     2.65   4.59   3.16    1.00   \n",
       "1   1991       1.96    1.92    3.45     2.90   4.50   3.46    1.30   \n",
       "2   1992       1.89    1.73    3.56     3.27   4.53   3.58    1.50   \n",
       "3   1993       1.73    1.57    3.41     3.07   3.68   4.16    1.56   \n",
       "4   1994       1.84    1.45    3.59     3.52   3.70   4.36    1.48   \n",
       "5   1995       1.95    1.53    4.26     3.96   4.00   4.43    1.11   \n",
       "6   1996       2.12    1.61    4.41     3.94   4.39   3.64    1.25   \n",
       "7   1997       2.05    1.62    4.00     3.53   4.07   3.26    1.47   \n",
       "8   1998       1.63    1.38    3.87     3.34   3.84   2.82    1.49   \n",
       "9   1999       1.72    1.52    3.85     3.42   3.87   3.27    1.79   \n",
       "10  2000       1.94    1.86    3.80     3.45   3.77   3.65    2.01   \n",
       "11  2001       1.71    1.72    3.51     3.40   3.57   3.27    2.20   \n",
       "12  2002       1.76    1.69    3.62     3.67   3.74   3.15    2.24   \n",
       "13  2003       2.19    1.99    4.35     4.59   4.53   3.47    2.04   \n",
       "14  2004       2.72    2.37    4.99     5.24   5.29   3.93    2.03   \n",
       "15  2005       3.23    2.89    5.46     5.66   5.74   4.28    2.22   \n",
       "16  2006       3.54    3.26    5.88     6.03   6.10   4.47    2.31   \n",
       "17  2007       3.85    3.59    6.60     6.88   6.73   4.49    2.40   \n",
       "18  2008       4.45    4.08    7.51     7.75   7.63   5.74    2.45   \n",
       "\n",
       "    South Korea    UK   USA  \n",
       "0          2.05  2.82  1.16  \n",
       "1          2.49  3.01  1.14  \n",
       "2          2.65  3.06  1.13  \n",
       "3          2.88  2.84  1.11  \n",
       "4          2.87  2.99  1.11  \n",
       "5          2.94  3.21  1.15  \n",
       "6          3.18  3.34  1.23  \n",
       "7          3.34  3.83  1.23  \n",
       "8          3.04  4.06  1.06  \n",
       "9          3.80  4.29  1.17  \n",
       "10         4.18  4.58  1.51  \n",
       "11         3.76  4.13  1.46  \n",
       "12         3.84  4.16  1.36  \n",
       "13         4.11  4.70  1.59  \n",
       "14         4.51  5.56  1.88  \n",
       "15         5.28  5.97  2.30  \n",
       "16         5.92  6.36  2.59  \n",
       "17         6.21  7.13  2.80  \n",
       "18         5.83  7.42  3.27  "
      ]
     },
     "execution_count": 23,
     "metadata": {},
     "output_type": "execute_result"
    }
   ],
   "source": [
    "gas_df"
   ]
  },
  {
   "cell_type": "markdown",
   "id": "6244eebf",
   "metadata": {},
   "source": [
    "## Calculation of The Mean Squared Error of The Lasso Model Regression\n",
    "### The lesser the error the better"
   ]
  },
  {
   "cell_type": "code",
   "execution_count": 24,
   "id": "dac47b16",
   "metadata": {},
   "outputs": [
    {
     "data": {
      "text/plain": [
       "4.980173711380595"
      ]
     },
     "execution_count": 24,
     "metadata": {},
     "output_type": "execute_result"
    }
   ],
   "source": [
    "mean_squared_error_lasso=mean_squared_error(y_test,y_predict_lasso)\n",
    "mean_squared_error_lasso"
   ]
  },
  {
   "cell_type": "markdown",
   "id": "b9b4b62f",
   "metadata": {},
   "source": [
    "## General Results of the Models: Linear, Ridge and Lasso Regression Model"
   ]
  },
  {
   "cell_type": "code",
   "execution_count": 25,
   "id": "35178876",
   "metadata": {},
   "outputs": [
    {
     "name": "stdout",
     "output_type": "stream",
     "text": [
      "Linear Model Mean Squared Error: 2.0392518571242384\n",
      "\n",
      "Ridge Model Mean Squared Error: 1.3670093656924351\n",
      "\n",
      "Lasso Model Mean Squared Error: 4.980173711380595\n",
      "\n"
     ]
    }
   ],
   "source": [
    "print(\"Linear Model Mean Squared Error:\", mean_squared_error_linear)\n",
    "print()\n",
    "print(\"Ridge Model Mean Squared Error:\", mean_square_error_ridge)\n",
    "print()\n",
    "print(\"Lasso Model Mean Squared Error:\", mean_squared_error_lasso)\n",
    "print()\n"
   ]
  },
  {
   "cell_type": "markdown",
   "id": "c33c293f",
   "metadata": {},
   "source": [
    "## The Best Predicted Model and Worst Predicted Model"
   ]
  },
  {
   "cell_type": "code",
   "execution_count": 26,
   "id": "b7e27abb",
   "metadata": {},
   "outputs": [
    {
     "name": "stdout",
     "output_type": "stream",
     "text": [
      "Best Model is: 1.3670093656924351\n",
      "\n"
     ]
    }
   ],
   "source": [
    "all_errors=np.asarray([mean_squared_error_linear, mean_square_error_ridge,mean_squared_error_lasso])\n",
    "\n",
    "print(\"Best Model is:\", all_errors.min())\n",
    "print()"
   ]
  },
  {
   "cell_type": "code",
   "execution_count": null,
   "id": "76d5eada",
   "metadata": {},
   "outputs": [],
   "source": []
  }
 ],
 "metadata": {
  "kernelspec": {
   "display_name": "Python 3 (ipykernel)",
   "language": "python",
   "name": "python3"
  },
  "language_info": {
   "codemirror_mode": {
    "name": "ipython",
    "version": 3
   },
   "file_extension": ".py",
   "mimetype": "text/x-python",
   "name": "python",
   "nbconvert_exporter": "python",
   "pygments_lexer": "ipython3",
   "version": "3.11.4"
  }
 },
 "nbformat": 4,
 "nbformat_minor": 5
}
